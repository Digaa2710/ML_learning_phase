{
 "cells": [
  {
   "cell_type": "code",
   "execution_count": 45,
   "id": "0e9ee620-024b-41f1-b4d6-7ac3f0c6a497",
   "metadata": {},
   "outputs": [],
   "source": [
    "import pandas as pd\n",
    "import numpy as np\n",
    "import matplotlib.pyplot as plt\n",
    "import seaborn as sns"
   ]
  },
  {
   "cell_type": "code",
   "execution_count": 46,
   "id": "6b6781b4-0b57-475b-84a7-76fbd5f8344a",
   "metadata": {},
   "outputs": [],
   "source": [
    "df_crab = pd.read_csv('./Downloads/train.csv')"
   ]
  },
  {
   "cell_type": "code",
   "execution_count": 47,
   "id": "25353d14-218d-4ebc-a8f1-dab2bfd48143",
   "metadata": {},
   "outputs": [
    {
     "name": "stdout",
     "output_type": "stream",
     "text": [
      "   id Sex  Length  Diameter  Height     Weight  Shucked Weight  \\\n",
      "0   0   I  1.5250    1.1750  0.3750  28.973189       12.728926   \n",
      "1   1   I  1.1000    0.8250  0.2750  10.418441        4.521745   \n",
      "2   2   M  1.3875    1.1125  0.3750  24.777463       11.339800   \n",
      "3   3   F  1.7000    1.4125  0.5000  50.660556       20.354941   \n",
      "4   4   I  1.2500    1.0125  0.3375  23.289114       11.977664   \n",
      "\n",
      "   Viscera Weight  Shell Weight  Age  \n",
      "0        6.647958      8.348928    9  \n",
      "1        2.324659      3.401940    8  \n",
      "2        5.556502      6.662133    9  \n",
      "3       10.991839     14.996885   11  \n",
      "4        4.507570      5.953395    8  \n"
     ]
    }
   ],
   "source": [
    "print(df_crab.head())"
   ]
  },
  {
   "cell_type": "code",
   "execution_count": 48,
   "id": "361469ee-aff9-474f-b784-2aa4bd7961a7",
   "metadata": {},
   "outputs": [
    {
     "data": {
      "text/plain": [
       "(74051, 10)"
      ]
     },
     "execution_count": 48,
     "metadata": {},
     "output_type": "execute_result"
    }
   ],
   "source": [
    "df_crab.shape"
   ]
  },
  {
   "cell_type": "code",
   "execution_count": 49,
   "id": "355b5d43-0ec9-4e4b-94dd-9856be9e5afd",
   "metadata": {},
   "outputs": [],
   "source": [
    "df_X=df_crab"
   ]
  },
  {
   "cell_type": "code",
   "execution_count": 50,
   "id": "4bd6d23b-403f-43e3-945f-88fa17df2857",
   "metadata": {},
   "outputs": [
    {
     "name": "stdout",
     "output_type": "stream",
     "text": [
      "   id Sex  Length  Diameter  Height     Weight  Shucked Weight  \\\n",
      "0   0   I  1.5250    1.1750  0.3750  28.973189       12.728926   \n",
      "1   1   I  1.1000    0.8250  0.2750  10.418441        4.521745   \n",
      "2   2   M  1.3875    1.1125  0.3750  24.777463       11.339800   \n",
      "3   3   F  1.7000    1.4125  0.5000  50.660556       20.354941   \n",
      "4   4   I  1.2500    1.0125  0.3375  23.289114       11.977664   \n",
      "\n",
      "   Viscera Weight  Shell Weight  \n",
      "0        6.647958      8.348928  \n",
      "1        2.324659      3.401940  \n",
      "2        5.556502      6.662133  \n",
      "3       10.991839     14.996885  \n",
      "4        4.507570      5.953395  \n"
     ]
    }
   ],
   "source": [
    "X=df_X.drop(['Age'],axis=1)\n",
    "print(X.head())"
   ]
  },
  {
   "cell_type": "code",
   "execution_count": 51,
   "id": "4d552c06-8879-416e-bb6c-8084dc62a065",
   "metadata": {},
   "outputs": [],
   "source": [
    "X=X.drop(['id','Sex'],axis=1)"
   ]
  },
  {
   "cell_type": "code",
   "execution_count": 52,
   "id": "0e524f2d-6255-4e61-baf6-21b2e769c8ae",
   "metadata": {},
   "outputs": [
    {
     "name": "stdout",
     "output_type": "stream",
     "text": [
      "   Length  Diameter  Height     Weight  Shucked Weight  Viscera Weight  \\\n",
      "0  1.5250    1.1750  0.3750  28.973189       12.728926        6.647958   \n",
      "1  1.1000    0.8250  0.2750  10.418441        4.521745        2.324659   \n",
      "2  1.3875    1.1125  0.3750  24.777463       11.339800        5.556502   \n",
      "3  1.7000    1.4125  0.5000  50.660556       20.354941       10.991839   \n",
      "4  1.2500    1.0125  0.3375  23.289114       11.977664        4.507570   \n",
      "\n",
      "   Shell Weight  \n",
      "0      8.348928  \n",
      "1      3.401940  \n",
      "2      6.662133  \n",
      "3     14.996885  \n",
      "4      5.953395  \n"
     ]
    }
   ],
   "source": [
    "print(X.head())"
   ]
  },
  {
   "cell_type": "code",
   "execution_count": 53,
   "id": "ee2756e1-3c09-4b57-96c8-afa202288169",
   "metadata": {},
   "outputs": [
    {
     "name": "stdout",
     "output_type": "stream",
     "text": [
      "0     9\n",
      "1     8\n",
      "2     9\n",
      "3    11\n",
      "4     8\n",
      "Name: Age, dtype: int64\n"
     ]
    }
   ],
   "source": [
    "y=df_crab['Age']\n",
    "print(y.head())"
   ]
  },
  {
   "cell_type": "code",
   "execution_count": 54,
   "id": "18bef5ba-e53b-49f3-a97d-c2aa2b7e4ea3",
   "metadata": {},
   "outputs": [],
   "source": [
    "from sklearn.model_selection import train_test_split"
   ]
  },
  {
   "cell_type": "code",
   "execution_count": 55,
   "id": "c24b7fb0-d0ae-4c33-816a-302a1102ffde",
   "metadata": {},
   "outputs": [],
   "source": [
    "X_train, X_test, y_train, y_test = train_test_split(X, y, test_size=0.3, random_state=42)"
   ]
  },
  {
   "cell_type": "code",
   "execution_count": 56,
   "id": "3957e210-1819-4eb9-b921-0984ca664249",
   "metadata": {},
   "outputs": [],
   "source": [
    "from sklearn.preprocessing import StandardScaler\n",
    "scaler=StandardScaler()\n"
   ]
  },
  {
   "cell_type": "code",
   "execution_count": 57,
   "id": "e63050fb-ab06-4cc5-b980-ed21afee4049",
   "metadata": {},
   "outputs": [],
   "source": [
    "X_train=scaler.fit_transform(X_train)"
   ]
  },
  {
   "cell_type": "code",
   "execution_count": 58,
   "id": "f0c38b60-e5ae-459d-9d43-61ec70c50866",
   "metadata": {},
   "outputs": [],
   "source": [
    "X_test=scaler.transform(X_test)"
   ]
  },
  {
   "cell_type": "code",
   "execution_count": 81,
   "id": "49a17efe-5051-4644-b5c5-8abf17a01d66",
   "metadata": {},
   "outputs": [],
   "source": [
    "from sklearn.linear_model import LinearRegression\n",
    "from sklearn.model_selection import cross_val_score\n",
    "from sklearn.metrics import make_scorer, mean_squared_error"
   ]
  },
  {
   "cell_type": "code",
   "execution_count": 60,
   "id": "1b018236-2b2b-4964-a89b-371b0bc6ccd5",
   "metadata": {},
   "outputs": [],
   "source": [
    "regression=LinearRegression()"
   ]
  },
  {
   "cell_type": "code",
   "execution_count": 82,
   "id": "c430275e-6436-4b1c-b71b-4ef85385e866",
   "metadata": {},
   "outputs": [],
   "source": [
    "mse_scorer = make_scorer(mean_squared_error, greater_is_better=False)\n",
    "mse=cross_val_score(regression,X_train,y_train,scoring=mse_scorer,cv=5)"
   ]
  },
  {
   "cell_type": "code",
   "execution_count": 83,
   "id": "0b0b29d2-8830-46eb-ad98-91084090e7ac",
   "metadata": {},
   "outputs": [
    {
     "data": {
      "text/plain": [
       "-4.65645748143018"
      ]
     },
     "execution_count": 83,
     "metadata": {},
     "output_type": "execute_result"
    }
   ],
   "source": [
    "\n",
    "np.mean(mse)"
   ]
  },
  {
   "cell_type": "code",
   "execution_count": 84,
   "id": "debce61f-70e4-47e6-91c9-69673f031b0b",
   "metadata": {},
   "outputs": [],
   "source": [
    "regression.fit(X_train, y_train)\n",
    "reg_pred=regression.predict(X_test)"
   ]
  },
  {
   "cell_type": "code",
   "execution_count": 85,
   "id": "c46ff00b-2076-41bc-9d4c-f6e143df185b",
   "metadata": {},
   "outputs": [
    {
     "data": {
      "text/plain": [
       "array([13.45016687,  5.7155641 ,  9.68617523, ..., 10.52844485,\n",
       "       12.77446458, 12.50348792])"
      ]
     },
     "execution_count": 85,
     "metadata": {},
     "output_type": "execute_result"
    }
   ],
   "source": [
    "reg_pred"
   ]
  },
  {
   "cell_type": "code",
   "execution_count": 74,
   "id": "d84e6fdf-6598-41e4-ac5d-08605f389aae",
   "metadata": {},
   "outputs": [
    {
     "data": {
      "text/plain": [
       "<seaborn.axisgrid.FacetGrid at 0x1def2089a60>"
      ]
     },
     "execution_count": 74,
     "metadata": {},
     "output_type": "execute_result"
    },
    {
     "data": {
      "image/png": "[encoded data removed]",
      "text/plain": [
       "<Figure size 500x500 with 1 Axes>"
      ]
     },
     "metadata": {},
     "output_type": "display_data"
    }
   ],
   "source": [
    "\n",
    "sns.displot(reg_pred-y_test,kind='kde')    \n",
    "\n"
   ]
  },
  {
   "cell_type": "code",
   "execution_count": 86,
   "id": "245c1c75-7f67-40e6-9334-8033d414b289",
   "metadata": {},
   "outputs": [],
   "source": [
    "from sklearn.metrics import r2_score"
   ]
  },
  {
   "cell_type": "code",
   "execution_count": 87,
   "id": "a30929c4-b0df-4253-8724-23f4a221067c",
   "metadata": {},
   "outputs": [],
   "source": [
    "score=r2_score(reg_pred,y_test)"
   ]
  },
  {
   "cell_type": "code",
   "execution_count": 88,
   "id": "82bf2198-2326-40a0-9743-af923b260c9a",
   "metadata": {},
   "outputs": [
    {
     "data": {
      "text/plain": [
       "0.1610984338561403"
      ]
     },
     "execution_count": 88,
     "metadata": {},
     "output_type": "execute_result"
    }
   ],
   "source": [
    "score"
   ]
  },
  {
   "cell_type": "code",
   "execution_count": null,
   "id": "96060701-e0ce-4d76-b8b5-993768db1cd0",
   "metadata": {},
   "outputs": [],
   "source": []
  }
 ],
 "metadata": {
  "kernelspec": {
   "display_name": "Python 3 (ipykernel)",
   "language": "python",
   "name": "python3"
  },
  "language_info": {
   "codemirror_mode": {
    "name": "ipython",
    "version": 3
   },
   "file_extension": ".py",
   "mimetype": "text/x-python",
   "name": "python",
   "nbconvert_exporter": "python",
   "pygments_lexer": "ipython3",
   "version": "3.12.4"
  }
 },
 "nbformat": 4,
 "nbformat_minor": 5
}
